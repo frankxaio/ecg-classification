{
 "cells": [
  {
   "cell_type": "code",
   "execution_count": null,
   "metadata": {
    "ExecuteTime": {
     "end_time": "2024-05-04T18:14:24.676661Z",
     "start_time": "2024-05-04T18:14:24.663070Z"
    },
    "id": "w0hBy_iz30BW"
   },
   "outputs": [],
   "source": [
    "import itertools # 是 Python 的內建模組，提供了一組用於處理迭代器的函數和工具。\n",
    "                 # 它包含了各種用於高效處理迭代器的函數，可以幫助我們編寫更簡潔、高效的代碼。\n",
    "import sys # 是 Python 的內建模組，提供了與 Python 解釋器和運行環境相關的功能。\n",
    "# sys.path 是一個列表，包含了 Python 解釋器在導入模組時會搜尋的路徑。\n",
    "# 當你使用 import 語句導入模組時 Python 會依次在 sys.path 中的路徑下尋找對應的模組文件。\n",
    "sys.path.append(\"../ecg-classification/\")\n",
    "# sys.path.append(\"C:\\\\Users\\\\Chen_Lab01\\\\Documents\\\\GitHub/ecg-classification\")\n",
    "# from IPython.display import Video\n",
    "# import cv2\n",
    "from matplotlib import pyplot as plt\n",
    "plt.style.use(\"ggplot\") #  是 Matplotlib 庫中用於設置繪圖樣式的函數。它使用了一種名為 \"ggplot\" 的預定義樣式\n",
    "import matplotlib\n",
    "matplotlib.use(\"TkAgg\")\n",
    "                        #  該樣式模仿了 R 語言的 ggplot2 繪圖包的外觀。\n",
    "# print(sys.path)\n",
    "from ecg_tools.config import EcgConfig, Mode\n",
    "from ecg_tools.data_loader import DatasetConfig, get_data_loaders\n",
    "from ecg_tools.model import ECGformer\n",
    "from ecg_tools.train import ECGClassifierTrainer\n",
    "\n"
   ]
  },
  {
   "cell_type": "markdown",
   "metadata": {
    "id": "L_tk7H8cWv0D"
   },
   "source": [
    "## Data"
   ]
  },
  {
   "cell_type": "code",
   "execution_count": null,
   "metadata": {
    "ExecuteTime": {
     "end_time": "2024-05-04T18:14:26.486039Z",
     "start_time": "2024-05-04T18:14:24.688606Z"
    },
    "colab": {
     "base_uri": "https://localhost:8080/",
     "height": 562
    },
    "executionInfo": {
     "elapsed": 8181,
     "status": "ok",
     "timestamp": 1712582493750,
     "user": {
      "displayName": "Xaio",
      "userId": "03940136356471857780"
     },
     "user_tz": -480
    },
    "id": "2Rei0UCI0YtT",
    "outputId": "90e9e81e-3c0f-43cb-d655-df7faef4fc42"
   },
   "outputs": [],
   "source": [
    "# 隨機抽 5 筆 ECG Data 出來觀察\n",
    "NUM_EXAMPLES = 5\n",
    "config = EcgConfig()\n",
    "data_loaders = get_data_loaders(config.dataset)\n",
    "\n",
    "plt.figure(1, dpi=200) # dpi 設置解析度\n",
    "labels = []\n",
    "\n",
    "for idx, data in enumerate(data_loaders[Mode.train]):\n",
    "    if idx == NUM_EXAMPLES:\n",
    "        break\n",
    "    plt.plot(data[0][0, ...].squeeze().numpy())\n",
    "    labels.append(int(data[1][0, ...].numpy()))\n",
    "\n",
    "plt.legend([f\"ECG: {label}\" for label in labels])\n",
    "%matplotlib inline\n",
    "plt.show()"
   ]
  },
  {
   "cell_type": "code",
   "execution_count": null,
   "metadata": {
    "ExecuteTime": {
     "end_time": "2024-05-04T18:14:35.026487Z",
     "start_time": "2024-05-04T18:14:26.487538Z"
    },
    "colab": {
     "base_uri": "https://localhost:8080/",
     "height": 477
    },
    "executionInfo": {
     "elapsed": 13952,
     "status": "ok",
     "timestamp": 1712582507699,
     "user": {
      "displayName": "Xaio",
      "userId": "03940136356471857780"
     },
     "user_tz": -480
    },
    "id": "mjXucT5r5wg6",
    "outputId": "d558aeeb-8fc7-42f4-d130-b7573f71f400"
   },
   "outputs": [],
   "source": [
    "config = EcgConfig()\n",
    "data_loaders = get_data_loaders(config.dataset)\n",
    "classes = [\"N\", \"S\", \"V\", \"F\", \"Q\", \"M\"]\n",
    "labels = {\n",
    "    idx: 0 for idx in range(len(classes))\n",
    "}\n",
    "\n",
    "for data in itertools.chain(*list(data_loaders.values())):\n",
    "    for label in data[1].numpy():\n",
    "        labels[int(label)] += 1\n",
    "\n",
    "plt.bar(range(len(classes)), list(labels.values()), tick_label=[f\"{k}: {v}\" for k, v in zip(classes, list(labels.values()))])\n",
    "plt.title(\"Class frequency for ECG classification task\")\n",
    "plt.ylabel(\"Frequency [samples]\")\n",
    "plt.xlabel(\"Class\")\n",
    "%matplotlib inline\n",
    "plt.show()"
   ]
  },
  {
   "cell_type": "markdown",
   "metadata": {
    "id": "125rW_VlW1uu"
   },
   "source": [
    "## Modeling"
   ]
  },
  {
   "cell_type": "code",
   "execution_count": null,
   "metadata": {
    "ExecuteTime": {
     "end_time": "2024-05-04T18:14:35.207040Z",
     "start_time": "2024-05-04T18:14:35.027979Z"
    },
    "colab": {
     "base_uri": "https://localhost:8080/"
    },
    "executionInfo": {
     "elapsed": 5,
     "status": "ok",
     "timestamp": 1712583080766,
     "user": {
      "displayName": "Xaio",
      "userId": "03940136356471857780"
     },
     "user_tz": -480
    },
    "id": "cNyIWak7W4-t",
    "outputId": "a073f435-7841-4e55-d0a2-bbb4a7d8342a"
   },
   "outputs": [],
   "source": [
    "config = EcgConfig()\n",
    "model = ECGformer(\n",
    "    embed_size=config.model.embed_size,\n",
    "    num_layers=config.model.num_layers,\n",
    "    num_heads=config.model.num_heads,\n",
    "    num_classes=config.model.num_classes,\n",
    "    signal_length=config.model.signal_length,\n",
    "    expansion=config.model.expansion,\n",
    "    input_channels=config.model.input_channels\n",
    ")\n",
    "model\n",
    "from torchinfo import summary\n",
    "# input = (batch_size, signal_length, input_channels)\n",
    "summary(model, input_size=(64, config.model.signal_length, 1),\n",
    "       device='cpu',\n",
    "       col_names=(\"input_size\", \"output_size\", \"num_params\", \"kernel_size\"),\n",
    "       depth=3) # depth = 3 表示只顯示到第三層\n",
    "# print(model)\n",
    "\n",
    "\n"
   ]
  },
  {
   "cell_type": "markdown",
   "metadata": {},
   "source": [
    "### Quantization Test"
   ]
  },
  {
   "cell_type": "code",
   "execution_count": null,
   "metadata": {
    "ExecuteTime": {
     "end_time": "2024-05-04T18:14:35.222164Z",
     "start_time": "2024-05-04T18:14:35.209221Z"
    }
   },
   "outputs": [],
   "source": [
    "# import torch.quantization\n",
    "# model(torch.randn(1, config.model.signal_length, 1)).shape\n",
    "\n",
    "# 使用 Eager Mode Quantization\n",
    "# 將 torch.nn.Linear 的參數映射到 -127~127 之間\n",
    "# quantized_model = torch.quantization.quantize_dynamic(\n",
    "#     model, {torch.nn.Linear}, dtype=torch.qint8\n",
    "# )\n",
    "\n",
    "# quantized_model\n",
    "# from torchinfo import summary\n",
    "# summary(quantized_model, input_size=(64, config.model.signal_length, 1),\n",
    "#        device='cpu',\n",
    "#        col_names=(\"input_size\", \"output_size\", \"num_params\", \"kernel_size\"),\n",
    "#        depth=5) # depth = 3 表示只顯示到第三層\n",
    "# # print(model)\n"
   ]
  },
  {
   "cell_type": "markdown",
   "metadata": {},
   "source": [
    "### Model ParameterTest"
   ]
  },
  {
   "cell_type": "code",
   "execution_count": null,
   "metadata": {
    "ExecuteTime": {
     "end_time": "2024-05-04T18:14:35.237164Z",
     "start_time": "2024-05-04T18:14:35.225328Z"
    }
   },
   "outputs": [],
   "source": [
    "# for name in quantized_model.state_dict():\n",
    "#    print(name)\n",
    "# \n",
    "# print(quantized_model.state_dict()['encoder.0.0.block.1.queries_projection._packed_params._packed_params'])"
   ]
  },
  {
   "cell_type": "markdown",
   "metadata": {},
   "source": [
    "### Visualize Model"
   ]
  },
  {
   "cell_type": "code",
   "execution_count": null,
   "metadata": {
    "ExecuteTime": {
     "end_time": "2024-05-04T18:14:35.252301Z",
     "start_time": "2024-05-04T18:14:35.238720Z"
    }
   },
   "outputs": [],
   "source": [
    "# quantized_model.eval()\n",
    "# inputs = torch.randn(1, 187, 1)\n",
    "# traced_script_module = torch.jit.trace(quantized_model, inputs)\n",
    "# traced_script_module.save(\"traced_resnet_model.pth\")\n",
    "\n",
    "# from torchviz import make_dot\n",
    "# vis_graph = make_dot(quantized_model(inputs), params=dict(quantized_model.named_parameters()), show_attrs=True, show_saved=True)\n",
    "# vis_graph.view()  # 会在当前目录下保存一个“Digraph.gv.pdf”文件，并在默认浏览器中打开\n",
    "\n",
    "# import netron\n",
    "# modelData = 'traced_resnet_model.pth'\n",
    "# netron.start(modelData)"
   ]
  },
  {
   "cell_type": "markdown",
   "metadata": {
    "id": "adHFhsPP2nVq"
   },
   "source": [
    "## Training"
   ]
  },
  {
   "cell_type": "code",
   "execution_count": null,
   "metadata": {
    "ExecuteTime": {
     "end_time": "2024-05-04T18:16:15.778824Z",
     "start_time": "2024-05-04T18:14:35.253851Z"
    },
    "colab": {
     "base_uri": "https://localhost:8080/"
    },
    "executionInfo": {
     "elapsed": 3771554,
     "status": "ok",
     "timestamp": 1712586852317,
     "user": {
      "displayName": "Xaio",
      "userId": "03940136356471857780"
     },
     "user_tz": -480
    },
    "id": "h51rRB8vixtw",
    "outputId": "a8d016e9-74be-4791-a208-989549907fad"
   },
   "outputs": [],
   "source": [
    "config = EcgConfig()\n",
    "trainer = ECGClassifierTrainer(config)\n",
    "\n",
    "train_confusion_matrix, eval_confusion_matrix, epoch_loss = trainer.train()"
   ]
  },
  {
   "cell_type": "markdown",
   "metadata": {
    "id": "iM5LoWUj21jG"
   },
   "source": [
    "## Evaluating"
   ]
  },
  {
   "cell_type": "code",
   "execution_count": null,
   "metadata": {
    "ExecuteTime": {
     "end_time": "2024-05-04T18:16:15.780387Z",
     "start_time": "2024-05-04T18:16:15.780387Z"
    },
    "colab": {
     "base_uri": "https://localhost:8080/",
     "height": 211
    },
    "executionInfo": {
     "elapsed": 6,
     "status": "error",
     "timestamp": 1712825855551,
     "user": {
      "displayName": "Xaio",
      "userId": "03940136356471857780"
     },
     "user_tz": -480
    },
    "id": "y8MvAFzn21Rn",
    "outputId": "11701ee1-0272-4f78-dcc0-f3600f10c2fe"
   },
   "outputs": [],
   "source": [
    "# plot loss\n",
    "plt.figure(1, dpi=200)\n",
    "plt.plot(epoch_loss)\n",
    "plt.title(\"Training Loss\")\n",
    "plt.xlabel(\"Epoch\")\n",
    "plt.ylabel(\"Loss\")\n",
    "%matplotlib inline\n",
    "plt.show()"
   ]
  },
  {
   "cell_type": "code",
   "execution_count": null,
   "metadata": {
    "colab": {
     "base_uri": "https://localhost:8080/",
     "height": 587
    },
    "executionInfo": {
     "elapsed": 3,
     "status": "ok",
     "timestamp": 1712337654581,
     "user": {
      "displayName": "Xaio",
      "userId": "03940136356471857780"
     },
     "user_tz": -480
    },
    "id": "timCr07fydO6",
    "outputId": "e79a84b8-912c-40ec-e079-60b056c75fa5"
   },
   "outputs": [],
   "source": [
    "# Confusion matrix\n",
    "plt.figure(figsize=(20, 12))\n",
    "\n",
    "plt.subplot(1, 2, 1)\n",
    "plt.imshow(train_confusion_matrix[0])\n",
    "plt.title(\"Training Confusion Matrix\")\n",
    "\n",
    "\n",
    "plt.subplot(1, 2, 2)\n",
    "plt.imshow(eval_confusion_matrix[-1])\n",
    "plt.title(\"Validation Confusion Matrix\")\n",
    "\n",
    "plt.tight_layout()\n",
    "plt.show()\n"
   ]
  },
  {
   "cell_type": "markdown",
   "metadata": {
    "id": "44PfflSj1GoP"
   },
   "source": [
    "## Save model and load model"
   ]
  },
  {
   "cell_type": "code",
   "execution_count": null,
   "metadata": {
    "colab": {
     "base_uri": "https://localhost:8080/"
    },
    "executionInfo": {
     "elapsed": 4,
     "status": "ok",
     "timestamp": 1712337654579,
     "user": {
      "displayName": "Xaio",
      "userId": "03940136356471857780"
     },
     "user_tz": -480
    },
    "id": "lj-TcyvzwEgy",
    "outputId": "60534811-27ae-47a6-f170-febb8c54eb16"
   },
   "outputs": [],
   "source": [
    "import torch\n",
    "model.eval()\n",
    "torch.save(model, \"..\\\\model_save\\\\model.pth\")\n",
    "model_test = torch.load(\"..\\\\model_save\\\\model.pth\")\n",
    "print(model_test)"
   ]
  },
  {
   "cell_type": "code",
   "execution_count": null,
   "metadata": {},
   "outputs": [],
   "source": [
    "import torch.quantization\n",
    "model(torch.randn(1, config.model.signal_length, 1)).shape\n",
    "\n",
    "# 使用 Eager Mode Quantization\n",
    "# 將 torch.nn.Linear 的參數映射到 -127~127 之間\n",
    "quantized_model = torch.quantization.quantize_dynamic(\n",
    "    model, {torch.nn.Linear}, dtype=torch.qint8\n",
    ")\n",
    "quantized_model.eval()\n",
    "torch.save(quantized_model, \"..\\\\model_save\\\\model_quantized.pth\")\n",
    "model_test = torch.load(\"..\\\\model_save\\\\model_quantized.pth\")\n",
    "\n",
    "print(model_test)\n"
   ]
  },
  {
   "cell_type": "code",
   "execution_count": null,
   "metadata": {},
   "outputs": [],
   "source": [
    "import einops\n",
    "loader = get_data_loaders(DatasetConfig())\n",
    "accuracy = 0\n",
    "for signal, label in loader[Mode.eval]:\n",
    "    p = model_test(einops.rearrange(signal, \"b c e -> b e c\"))\n",
    "    print(p)\n",
    "    print(label)\n",
    "    # print(signal.shape, label.shape)\n",
    "    print(p.argmax(1))\n",
    "    print(p.argmax(1) == label)\n",
    "    accuracy += torch.sum(p.argmax(1) == label)\n",
    "    print(f\"accuracy: {accuracy / config.dataset.batch_size}\")\n",
    "    break\n",
    "\n"
   ]
  },
  {
   "cell_type": "markdown",
   "metadata": {},
   "source": [
    "## Parameter 提取"
   ]
  },
  {
   "cell_type": "code",
   "execution_count": null,
   "metadata": {},
   "outputs": [],
   "source": [
    "for name in model_test.state_dict():\n",
    "   print(name)\n",
    "\n",
    "print(quantized_model.state_dict()['encoder.0.0.block.1.queries_projection._packed_params._packed_params'])"
   ]
  }
 ],
 "metadata": {
  "accelerator": "GPU",
  "colab": {
   "authorship_tag": "ABX9TyPUx7jOBfz7I+Dh9J9nr+0J",
   "gpuType": "T4",
   "machine_shape": "hm",
   "mount_file_id": "1-peQFCSLqZZw2En4jgeh9sbxo4EPKvXa",
   "provenance": []
  },
  "kernelspec": {
   "display_name": "Python 3 (ipykernel)",
   "language": "python",
   "name": "python3"
  },
  "language_info": {
   "codemirror_mode": {
    "name": "ipython",
    "version": 3
   },
   "file_extension": ".py",
   "mimetype": "text/x-python",
   "name": "python",
   "nbconvert_exporter": "python",
   "pygments_lexer": "ipython3",
   "version": "3.10.12"
  }
 },
 "nbformat": 4,
 "nbformat_minor": 4
}
